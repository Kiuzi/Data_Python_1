{
 "cells": [
  {
   "cell_type": "markdown",
   "metadata": {},
   "source": [
    "This dataset was hosted on IBM Cloud object click <a href=\"https://cocl.us/DA101EN_object_storage\">HERE</a> for free storage."
   ]
  },
  {
   "cell_type": "code",
   "execution_count": 2,
   "metadata": {
    "jupyter": {
     "outputs_hidden": false
    }
   },
   "outputs": [],
   "source": [
    "import pandas as pd\n",
    "df = pd.read_csv(other_path, header=None)"
   ]
  },
  {
   "cell_type": "code",
   "execution_count": null,
   "metadata": {
    "jupyter": {
     "outputs_hidden": false
    }
   },
   "outputs": [],
   "source": [
    "# Add Headers\n",
    "headers = [\"A\",\"B\",\"C\",\"D\"]\n",
    "print(\"headers\\n\", headers)\n",
    "df.columns = headers"
   ]
  },
  {
   "cell_type": "code",
   "execution_count": null,
   "metadata": {
    "jupyter": {
     "outputs_hidden": false
    }
   },
   "outputs": [],
   "source": [
    "# Drop na values from column B\n",
    "df.dropna(subset=[\"B\"], axis=0)"
   ]
  },
  {
   "cell_type": "code",
   "execution_count": null,
   "metadata": {
    "jupyter": {
     "outputs_hidden": false
    }
   },
   "outputs": [],
   "source": [
    "# Proc means \n",
    "df.describe()\n",
    "# Proc Freq\n",
    "df.describe(include = \"object\")\n",
    "df['A'].value_counts()\n",
    "df['A'].value_counts().to_frame()\n",
    "df.describe(include = \"all\")"
   ]
  },
  {
   "cell_type": "code",
   "execution_count": null,
   "metadata": {},
   "outputs": [],
   "source": [
    "# Convert missing values to standard\n",
    "import numpy as np\n",
    "# replace \"!!!\" to NaN\n",
    "df.replace(\"!!!\", np.nan, inplace = True)\n",
    "# \n",
    "missing_data = df.isnull()\n",
    "missing_data.head(5)\n",
    "# see how many missing values are in each column of data:\n",
    "for column in missing_data.columns.values.tolist():\n",
    "    print(column)\n",
    "    print (missing_data[column].value_counts())\n",
    "    print(\"\")    "
   ]
  },
  {
   "cell_type": "code",
   "execution_count": null,
   "metadata": {},
   "outputs": [],
   "source": [
    "# replace missing values by average of a column\n",
    "avg_norm_loss = df[\"normalized-losses\"].astype(\"float\").mean(axis=0)\n",
    "df[\"normalized-losses\"].replace(np.nan, avg_norm_loss, inplace=True)"
   ]
  },
  {
   "cell_type": "code",
   "execution_count": null,
   "metadata": {},
   "outputs": [],
   "source": [
    "# simply drop whole row with NaN in \"A\" column\n",
    "df.dropna(subset=[\"A\"], axis=0, inplace=True)\n",
    "\n",
    "# reset index, because we droped two rows\n",
    "df.reset_index(drop=True, inplace=True)\n",
    "df.index.name = 'whatever'"
   ]
  },
  {
   "cell_type": "code",
   "execution_count": null,
   "metadata": {},
   "outputs": [],
   "source": [
    "# Convert Data types\n",
    "df[[\"C\", \"D\"]] = df[[\"C\", \"D\"]].astype(\"float\")"
   ]
  },
  {
   "cell_type": "code",
   "execution_count": null,
   "metadata": {},
   "outputs": [],
   "source": [
    "# Data Standardization/normalization\n",
    "df['B'] = df['B']/df['B'].max()"
   ]
  },
  {
   "cell_type": "code",
   "execution_count": null,
   "metadata": {},
   "outputs": [],
   "source": [
    "# change column names\n",
    "df.rename(columns={\"A\":'ZAZ'}, inplace=True)"
   ]
  },
  {
   "cell_type": "code",
   "execution_count": null,
   "metadata": {},
   "outputs": [],
   "source": [
    "#Bining for hstogram\n",
    "df[\"G\"]=df[\"G\"].astype(int, copy=True)\n",
    "bins = np.linspace(min(df[\"G\"]), max(df[\"G\"]), 4)\n",
    "group_names = ['Low', 'Medium', 'High']\n",
    "df['G-binned'] = pd.cut(df['G'], bins, labels=group_names, include_lowest=True )"
   ]
  },
  {
   "cell_type": "code",
   "execution_count": null,
   "metadata": {},
   "outputs": [],
   "source": [
    "#histogram\n",
    "%matplotlib inline\n",
    "import matplotlib as plt\n",
    "from matplotlib import pyplot\n",
    "plt.pyplot.hist(df[\"A\"], df=3)\n",
    "# pyplot.bar(group_names, df[\"horsepower-binned\"].value_counts())\n",
    "# set x/y labels and plot title\n",
    "plt.pyplot.xlabel(\"...\")\n",
    "plt.pyplot.ylabel(\"...\")\n",
    "plt.pyplot.title(\"...\")"
   ]
  },
  {
   "cell_type": "code",
   "execution_count": null,
   "metadata": {},
   "outputs": [],
   "source": [
    "#dummy variables\n",
    "dummy_variable_1 = pd.get_dummies(df[\"A\"])\n",
    "# drop original column\n",
    "df.drop(\"A\", axis = 1, inplace=True)\n",
    "\n",
    "# rename dummy variables\n",
    "dummy_variable_1.rename(columns={'AZ':'AZnew'}, inplace=True)\n",
    "dummy_variable_1.drop(columns=['AY'], inplace=True)\n",
    "# merge original data with dummy variable\n",
    "df = pd.concat([df, dummy_variable_1], axis=1)"
   ]
  },
  {
   "cell_type": "code",
   "execution_count": null,
   "metadata": {},
   "outputs": [],
   "source": [
    "# Regression plot\n",
    "import seaborn as sns\n",
    "%matplotlib inline \n",
    "sns.regplot(x=\"X\", y=\"y\", data=df)\n",
    "plt.ylim(0,)\n",
    "# Box plot\n",
    "sns.boxplot(x=\"A\", y=\"y\", data=df)"
   ]
  },
  {
   "cell_type": "code",
   "execution_count": null,
   "metadata": {},
   "outputs": [],
   "source": [
    "# Correlation\n",
    "df[['A','B']].corr()\n",
    "from scipy import stats\n",
    "pearson_coef, p_value = stats.pearsonr(df['A'], df['B'])"
   ]
  },
  {
   "cell_type": "code",
   "execution_count": null,
   "metadata": {},
   "outputs": [],
   "source": [
    "# Grouping \n",
    "df_group_one = df[['A','B','y']]\n",
    "grouped_test1 = df_group_one.groupby(['A'],as_index=False).mean()\n",
    "grouped_test2 = df_group_one.groupby(['A','B'],as_index=False).mean()\n",
    "grouped_pivot = grouped_test2.pivot(index='A',columns='B')\n",
    "grouped_pivot = grouped_pivot.fillna(0)"
   ]
  },
  {
   "cell_type": "code",
   "execution_count": null,
   "metadata": {},
   "outputs": [],
   "source": [
    "# ANOVA\n",
    "grouped_test2=df_gptest[['A', 'y']].groupby(['A'])                                \n",
    "f_val, p_val = stats.f_oneway(grouped_test2.get_group('a')['y'], grouped_test2.get_group('b')['y'], grouped_test2.get_group('a')['y'])  \n",
    "print( \"ANOVA results: F=\", f_val, \", P =\", p_val)   "
   ]
  }
 ],
 "metadata": {
  "anaconda-cloud": {},
  "kernelspec": {
   "display_name": "Python 3",
   "language": "python",
   "name": "python3"
  },
  "language_info": {
   "codemirror_mode": {
    "name": "ipython",
    "version": 3
   },
   "file_extension": ".py",
   "mimetype": "text/x-python",
   "name": "python",
   "nbconvert_exporter": "python",
   "pygments_lexer": "ipython3",
   "version": "3.7.0"
  }
 },
 "nbformat": 4,
 "nbformat_minor": 4
}
